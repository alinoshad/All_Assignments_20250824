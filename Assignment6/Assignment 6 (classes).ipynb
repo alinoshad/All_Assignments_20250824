{
 "cells": [
  {
   "cell_type": "markdown",
   "id": "4e38ca3c-35b3-4c1d-b48b-05e4b9e0c72b",
   "metadata": {},
   "source": [
    "###### Q 1 Write a python program to create a class representing a circle include method to calculate its area  and perimeter"
   ]
  },
  {
   "cell_type": "code",
   "execution_count": null,
   "id": "947f9205-79e7-49ab-a0c5-808c9778498f",
   "metadata": {},
   "outputs": [],
   "source": [
    "class Circle:\n",
    "    def __init__(self, radius):\n",
    "        self.radius = radius\n",
    "\n",
    "    def area(self):\n",
    "        return (3.14) * self.radius ** 2\n",
    "\n",
    "    def perimeter(self):\n",
    "        return 2 * (3.14) * self.radius\n",
    "\n",
    "if __name__ == \"__main__\":\n",
    "    r = float(input(\"Enter the radius of the circle: \"))\n",
    "    circle = Circle(r)\n",
    "    print(f\"Area: {circle.area()}\")\n",
    "    print(f\"Perimeter: {circle.perimeter():}\")"
   ]
  },
  {
   "cell_type": "markdown",
   "id": "13015792-cf2e-4d9c-98e9-d2f1d96a9469",
   "metadata": {},
   "source": [
    "######  Q.2 Write a Python program to create a person class. Include attributes like name, country and date of birth. Implement a method to determine the person's age."
   ]
  },
  {
   "cell_type": "code",
   "execution_count": 10,
   "id": "0c07a711-4583-46f8-afc7-65c2a973771c",
   "metadata": {},
   "outputs": [
    {
     "name": "stdin",
     "output_type": "stream",
     "text": [
      "Name:  NO\n",
      "Country:  78\n",
      "Birth year (YYYY):  1989\n"
     ]
    },
    {
     "name": "stdout",
     "output_type": "stream",
     "text": [
      "NO from 78 is 36 years old.\n"
     ]
    }
   ],
   "source": [
    "from datetime import date\n",
    "class Person:\n",
    "    def __init__(self, name, country, birth_year):\n",
    "        self.name = name\n",
    "        self.country = country\n",
    "        self.birth_year = birth_year\n",
    "\n",
    "    def get_age(self):\n",
    "        return date.today().year - self.birth_year\n",
    "name = input(\"Name: \")\n",
    "country = input(\"Country: \")\n",
    "birth_year = int(input(\"Birth year (YYYY): \"))\n",
    "p = Person(name, country, birth_year)\n",
    "print(f\"{p.name} from {p.country} is {p.get_age()} years old.\")\n"
   ]
  },
  {
   "cell_type": "markdown",
   "id": "9e44e47f-6872-49cf-b6ce-bb6d6fa327e3",
   "metadata": {},
   "source": [
    "######   Q.3 Write a Python program to create a calculator class. Include methods for basic arithmetic operations."
   ]
  },
  {
   "cell_type": "code",
   "execution_count": 11,
   "id": "690d49ad-6bc9-49e7-9ff1-1aaa4e303595",
   "metadata": {},
   "outputs": [
    {
     "name": "stdout",
     "output_type": "stream",
     "text": [
      "Add: 8\n",
      "Subtract: 2\n",
      "Multiply: 15\n",
      "Divide: 1.6666666666666667\n"
     ]
    }
   ],
   "source": [
    "class Calculator:\n",
    "    def add(self, x, y): return x + y\n",
    "    def sub(self, x, y): return x - y\n",
    "    def mul(self, x, y): return x * y\n",
    "    def div(self, x, y): return x / y if y != 0 else \"Can't divide by zero\"\n",
    "c = Calculator()\n",
    "print(\"Add:\", c.add(5, 3))\n",
    "print(\"Subtract:\", c.sub(5, 3))\n",
    "print(\"Multiply:\", c.mul(5, 3))\n",
    "print(\"Divide:\", c.div(5, 3))"
   ]
  },
  {
   "cell_type": "code",
   "execution_count": null,
   "id": "f3bfc886-98fe-446a-8797-0c447e7cd483",
   "metadata": {},
   "outputs": [],
   "source": []
  }
 ],
 "metadata": {
  "kernelspec": {
   "display_name": "Python 3 (ipykernel)",
   "language": "python",
   "name": "python3"
  },
  "language_info": {
   "codemirror_mode": {
    "name": "ipython",
    "version": 3
   },
   "file_extension": ".py",
   "mimetype": "text/x-python",
   "name": "python",
   "nbconvert_exporter": "python",
   "pygments_lexer": "ipython3",
   "version": "3.12.5"
  }
 },
 "nbformat": 4,
 "nbformat_minor": 5
}
