{
 "cells": [
  {
   "cell_type": "markdown",
   "id": "2a10d73a-297e-485f-b852-b5c74c6924f8",
   "metadata": {},
   "source": [
    "1 Write a Python program to print the numbers from 1 to 10 using a for loop"
   ]
  },
  {
   "cell_type": "code",
   "execution_count": 1,
   "id": "14373984-d15a-4ad9-a579-a6e8f4b01c73",
   "metadata": {},
   "outputs": [
    {
     "name": "stdout",
     "output_type": "stream",
     "text": [
      "1\n",
      "2\n",
      "3\n",
      "4\n",
      "5\n",
      "6\n",
      "7\n",
      "8\n",
      "9\n",
      "10\n"
     ]
    }
   ],
   "source": [
    "for n in range(1,11):\n",
    "    print(n)\n",
    "    \n",
    "\n"
   ]
  },
  {
   "cell_type": "markdown",
   "id": "5a37aeb3-9aad-490f-9414-80e479b66974",
   "metadata": {},
   "source": [
    "2 Write a Python program to print the numbers from 20 to 1 using a while loop."
   ]
  },
  {
   "cell_type": "code",
   "execution_count": 3,
   "id": "82feeec4-3d85-47c1-9b5c-83c7811b9635",
   "metadata": {},
   "outputs": [
    {
     "name": "stdout",
     "output_type": "stream",
     "text": [
      "20\n",
      "19\n",
      "18\n",
      "17\n",
      "16\n",
      "15\n",
      "14\n",
      "13\n",
      "12\n",
      "11\n",
      "10\n",
      "9\n",
      "8\n",
      "7\n",
      "6\n",
      "5\n",
      "4\n",
      "3\n",
      "2\n",
      "1\n"
     ]
    }
   ],
   "source": [
    "num=20\n",
    "start=1\n",
    "while num>=start:\n",
    "    print(num)\n",
    "    num-=1"
   ]
  },
  {
   "cell_type": "markdown",
   "id": "3bfbde8c-0492-4e61-be50-4fef6820732e",
   "metadata": {},
   "source": [
    "3 Write a program to print even numbers from 1 to 10."
   ]
  },
  {
   "cell_type": "code",
   "execution_count": 4,
   "id": "f856548e-51aa-4765-9f53-63ada8782122",
   "metadata": {},
   "outputs": [
    {
     "name": "stdout",
     "output_type": "stream",
     "text": [
      "1 is odd\n",
      "2 is even\n",
      "3 is odd\n",
      "4 is even\n",
      "5 is odd\n",
      "6 is even\n",
      "7 is odd\n",
      "8 is even\n",
      "9 is odd\n",
      "10 is even\n"
     ]
    }
   ],
   "source": [
    "for n in range(1,11):\n",
    "    if n%2==0:\n",
    "        print(n ,'is even')\n",
    "    else:\n",
    "        print(n,'is odd')"
   ]
  },
  {
   "cell_type": "markdown",
   "id": "aaa8143c-9d5a-4545-a5c5-aa6f2c569ee3",
   "metadata": {},
   "source": [
    "4. Write a program that prompts the user to enter a number n and prints all the\r\n",
    "numbers from 1 to n."
   ]
  },
  {
   "cell_type": "code",
   "execution_count": 6,
   "id": "16b94eef-1209-44e1-ac31-50f4586f3959",
   "metadata": {},
   "outputs": [
    {
     "name": "stdin",
     "output_type": "stream",
     "text": [
      "enter numbre greater than 1 9\n"
     ]
    },
    {
     "name": "stdout",
     "output_type": "stream",
     "text": [
      "1\n",
      "2\n",
      "3\n",
      "4\n",
      "5\n",
      "6\n",
      "7\n",
      "8\n",
      "9\n"
     ]
    }
   ],
   "source": [
    "num=int(input('enter numbre greater than 1'))\n",
    "for n in range(1,num+1):\n",
    "    print(n)\n"
   ]
  },
  {
   "cell_type": "markdown",
   "id": "6fc19b88-27f1-45fc-bab6-3756c0fb5e7d",
   "metadata": {},
   "source": [
    "5. Write a program that prompts the user to enter a number n, and then prints all the\n",
    "odd numbers between 1 and n."
   ]
  },
  {
   "cell_type": "code",
   "execution_count": 7,
   "id": "b5a01f26-94eb-4582-af11-80ddb05d0905",
   "metadata": {},
   "outputs": [
    {
     "name": "stdin",
     "output_type": "stream",
     "text": [
      "enter numbre greater than 1 10\n"
     ]
    },
    {
     "name": "stdout",
     "output_type": "stream",
     "text": [
      "1 is odd\n",
      "3 is odd\n",
      "5 is odd\n",
      "7 is odd\n",
      "9 is odd\n"
     ]
    }
   ],
   "source": [
    "num=int(input('enter numbre greater than 1'))\n",
    "for n in range(1,num+1):\n",
    "    if n%2!=0:\n",
    "        print(n ,'is odd')\n",
    "  "
   ]
  },
  {
   "cell_type": "markdown",
   "id": "9144c348-6143-4ce1-9ade-556e5ab9569e",
   "metadata": {},
   "source": [
    "6. Write a program that prints 'Happy Birthday!' five times on screen."
   ]
  },
  {
   "cell_type": "code",
   "execution_count": 8,
   "id": "2a2570d3-c36e-40c6-b579-8f37eb242505",
   "metadata": {},
   "outputs": [
    {
     "name": "stdout",
     "output_type": "stream",
     "text": [
      "Happy Birthday\n",
      "Happy Birthday\n",
      "Happy Birthday\n",
      "Happy Birthday\n",
      "Happy Birthday\n"
     ]
    }
   ],
   "source": [
    "\n",
    "for n in range(1,6):\n",
    "    print('Happy Birthday')"
   ]
  },
  {
   "cell_type": "markdown",
   "id": "16a746ae-d9dd-45f2-9db0-b5c4a60b6d59",
   "metadata": {},
   "source": [
    "7. Write a program that takes a number n as input from the user and generates the first\n",
    "n terms of the series formed by squaring the natural numbers."
   ]
  },
  {
   "cell_type": "code",
   "execution_count": 10,
   "id": "46d1f5a4-5515-4f2c-9d9c-281fe3ebb4da",
   "metadata": {},
   "outputs": [
    {
     "name": "stdin",
     "output_type": "stream",
     "text": [
      "enter numbre 10\n"
     ]
    },
    {
     "name": "stdout",
     "output_type": "stream",
     "text": [
      "[1, 4, 9, 16, 25, 36, 49, 64, 81, 100]\n"
     ]
    }
   ],
   "source": [
    "num=int(input('enter numbre'))\n",
    "p=[n**2 for n in range(1,num+1)]\n",
    "print(p)\n",
    "    "
   ]
  },
  {
   "cell_type": "markdown",
   "id": "9559b34f-c654-4878-ad73-3fa4ea6ca2ab",
   "metadata": {},
   "source": [
    "8. Write a program that prompts the user to input a number and prints its multiplication\r\n",
    "table."
   ]
  },
  {
   "cell_type": "code",
   "execution_count": 11,
   "id": "86dd48b7-e384-43e7-a0a3-9b58cb48587c",
   "metadata": {},
   "outputs": [
    {
     "name": "stdin",
     "output_type": "stream",
     "text": [
      "Enter a number:  5\n"
     ]
    },
    {
     "name": "stdout",
     "output_type": "stream",
     "text": [
      "\n",
      "Multiplication Table for 5:\n",
      "\n",
      "5 x 1 = 5\n",
      "5 x 2 = 10\n",
      "5 x 3 = 15\n",
      "5 x 4 = 20\n",
      "5 x 5 = 25\n",
      "5 x 6 = 30\n",
      "5 x 7 = 35\n",
      "5 x 8 = 40\n",
      "5 x 9 = 45\n",
      "5 x 10 = 50\n"
     ]
    }
   ],
   "source": [
    "\n",
    "number = int(input(\"Enter a number: \"))\n",
    "print(f\"\\nMultiplication Table for {number}:\\n\")\n",
    "for i in range(1, 11):\n",
    "    print(f\"{number} x {i} = {number * i}\")\n"
   ]
  },
  {
   "cell_type": "markdown",
   "id": "e090cb4f-12f3-4671-989a-4898bc54f088",
   "metadata": {},
   "source": [
    "9. Write a Python program to print the first 8 terms of an arithmetic progression starting\r\n",
    "with 3 and having a common difference of 4.\r\n",
    "The program should output the following sequence:\r\n",
    "3 7 11 15 19 23 27 31"
   ]
  },
  {
   "cell_type": "code",
   "execution_count": 12,
   "id": "89148e87-12f8-4d4c-bda7-61f3708efc83",
   "metadata": {},
   "outputs": [
    {
     "name": "stdout",
     "output_type": "stream",
     "text": [
      "3 7 11 15 19 23 27 31 "
     ]
    }
   ],
   "source": [
    "start = 3\n",
    "difference = 4\n",
    "terms = 8\n",
    "for i in range(terms):\n",
    "    term = start + i * difference\n",
    "    print(term, end=' ')\n"
   ]
  },
  {
   "cell_type": "markdown",
   "id": "23b4bf2d-fd76-4395-b240-60c5378b3c89",
   "metadata": {},
   "source": [
    "10. Write a Python program to print the first 6 terms of a geometric sequence starting\r\n",
    "with 2 and having a common ratio of 3.\r\n",
    "The program should output the following sequence:\r\n",
    "2 6 18 54 162 486"
   ]
  },
  {
   "cell_type": "code",
   "execution_count": 13,
   "id": "7c697a99-a8a9-4c34-a11f-227749201092",
   "metadata": {},
   "outputs": [
    {
     "name": "stdout",
     "output_type": "stream",
     "text": [
      "2 6 18 54 162 486 "
     ]
    }
   ],
   "source": [
    "start = 2\n",
    "ratio = 3\n",
    "terms = 6\n",
    "for i in range(terms):\n",
    "    term = start * (ratio ** i)\n",
    "    print(term, end=' ')\n"
   ]
  },
  {
   "cell_type": "markdown",
   "id": "1c408492-1cf8-42dc-a78a-592505e9450c",
   "metadata": {},
   "source": [
    "11. Write a program that asks the user for a positive integer value. The program should calculate the sum of all the integers from 1 up to the number entered. For example, if the user enters 20, the loop will find the sum of 1, 2, 3, 4, ... 20."
   ]
  },
  {
   "cell_type": "code",
   "execution_count": 14,
   "id": "ac82aeaf-c246-4192-b448-bbfce7aa125e",
   "metadata": {},
   "outputs": [
    {
     "name": "stdin",
     "output_type": "stream",
     "text": [
      "Enter a positive integer:  6\n"
     ]
    },
    {
     "name": "stdout",
     "output_type": "stream",
     "text": [
      "The sum of all integers from 1 to 6 is: 21\n"
     ]
    }
   ],
   "source": [
    "num = int(input(\"Enter a positive integer: \"))\n",
    "if num <= 0:\n",
    "    print(\"Please enter a positive integer.\")\n",
    "else:\n",
    "    total = 0\n",
    "    for i in range(1, num + 1):\n",
    "        total += i\n",
    "    print(f\"The sum of all integers from 1 to {num} is: {total}\")\n"
   ]
  },
  {
   "cell_type": "markdown",
   "id": "7269c6dc-1039-4346-ba40-276958ef053a",
   "metadata": {},
   "source": [
    "12 write a program that takes a positive integer N as input and calculates the sum of\n",
    "the reciprocals of all numbers from 1 up to N. The program should display the final sum."
   ]
  },
  {
   "cell_type": "code",
   "execution_count": 15,
   "id": "d2958a0b-0e24-4a6e-b4ee-298e3a98ea34",
   "metadata": {},
   "outputs": [
    {
     "name": "stdin",
     "output_type": "stream",
     "text": [
      "Enter a positive integer:  8\n"
     ]
    },
    {
     "name": "stdout",
     "output_type": "stream",
     "text": [
      "The sum of reciprocals from 1 to 8 is: 2.7179\n"
     ]
    }
   ],
   "source": [
    "N = int(input(\"Enter a positive integer: \"))\n",
    "if N <= 0:\n",
    "    print(\"Please enter a positive integer greater than 0.\")\n",
    "else:\n",
    "    reciprocal_sum = 0.0\n",
    "    for i in range(1, N + 1):\n",
    "        reciprocal_sum += 1 / i\n",
    "\n",
    "    print(f\"The sum of reciprocals from 1 to {N} is: {reciprocal_sum:.4f}\")\n"
   ]
  },
  {
   "cell_type": "markdown",
   "id": "07314bc2-093a-4e9d-a68f-6e152df38674",
   "metadata": {},
   "source": [
    "13. Write a program that prompts the user to enter a number and repeats this process 5\r\n",
    "times. The program should accumulate the numbers entered and then display the final\r\n",
    "running total.\r\n",
    "Sample Output:\r\n",
    "Enter a number: 10\r\n",
    "Enter a number: 15\r\n",
    "Enter a number: 35\r\n",
    "Enter a number: 40\r\n",
    "Enter a number: 50\r\n",
    "The final running total is: 150"
   ]
  },
  {
   "cell_type": "code",
   "execution_count": 17,
   "id": "aac49b6e-f4d5-4412-8368-6eedc4b678cb",
   "metadata": {},
   "outputs": [
    {
     "name": "stdin",
     "output_type": "stream",
     "text": [
      "Enter a number:  10\n",
      "Enter a number:  10\n",
      "Enter a number:  10\n",
      "Enter a number:  2\n",
      "Enter a number:  3\n"
     ]
    },
    {
     "name": "stdout",
     "output_type": "stream",
     "text": [
      "The final running total is: 35\n"
     ]
    }
   ],
   "source": [
    "total = 0\n",
    "for i in range(5):\n",
    "    number = int(input(\"Enter a number: \"))\n",
    "    total += number  \n",
    "print(\"The final running total is:\", total)\n"
   ]
  },
  {
   "cell_type": "markdown",
   "id": "a47e2587-6b62-4bf7-a1ec-1c11103e628e",
   "metadata": {},
   "source": [
    "14. Write a program that prompts the user to enter a positive integer and calculates its\r\n",
    "factorial. The factorial of a positive integer 'n' is denoted as 'n!' and is calculated by\r\n",
    "multiplying all the integers from 1 to 'n' together. For example, the factorial of 5\r\n",
    "(denoted as 5!) is calculated as 1 x 2 x 3 x 4 x 5.\r\n",
    "The program should display the factorial value if the input is a positive number, or\r\n",
    "display a message stating that the factorial does not exist for negative numbers.\r\n",
    "Additionally, for an input of zero, the program should output that the factorial of 0 is 1."
   ]
  },
  {
   "cell_type": "code",
   "execution_count": 18,
   "id": "08027ec5-c041-41a2-af85-e21806ec868a",
   "metadata": {},
   "outputs": [
    {
     "name": "stdin",
     "output_type": "stream",
     "text": [
      "Enter a positive integer:  4\n"
     ]
    },
    {
     "name": "stdout",
     "output_type": "stream",
     "text": [
      "The factorial of 4 is 24.\n"
     ]
    }
   ],
   "source": [
    "num = int(input(\"Enter a positive integer: \"))\n",
    "if num < 0:\n",
    "    print(\"Factorial does not exist for negative numbers.\")\n",
    "elif num == 0:\n",
    "    print(\"The factorial of 0 is 1.\")\n",
    "else:\n",
    "    factorial = 1\n",
    "    for i in range(1, num + 1):\n",
    "        factorial *= i\n",
    "    print(f\"The factorial of {num} is {factorial}.\")\n"
   ]
  },
  {
   "cell_type": "markdown",
   "id": "1685c7b0-aacd-46cc-a717-785188e5197b",
   "metadata": {},
   "source": [
    "15. Write a Python program that prompts the user to enter a base number and an\r\n",
    "exponent, and then calculates the power of the base to the exponent. The program\r\n",
    "should not use the exponentiation operator (**) or the math.pow() function. The\r\n",
    "program should handle both positive and negative exponents."
   ]
  },
  {
   "cell_type": "code",
   "execution_count": 19,
   "id": "5d9bb2e9-b9aa-4a98-9768-2735da071374",
   "metadata": {},
   "outputs": [
    {
     "name": "stdin",
     "output_type": "stream",
     "text": [
      "Enter the base number:  5\n",
      "Enter the exponent:  2\n"
     ]
    },
    {
     "name": "stdout",
     "output_type": "stream",
     "text": [
      "5.0 raised to the power of 2 is: 25.0\n"
     ]
    }
   ],
   "source": [
    "base = float(input(\"Enter the base number: \"))\n",
    "exponent = int(input(\"Enter the exponent: \"))\n",
    "result = 1\n",
    "if exponent > 0:\n",
    "    for _ in range(exponent):\n",
    "        result *= base\n",
    "elif exponent < 0:\n",
    "    for _ in range(-exponent):\n",
    "        result *= base\n",
    "    result = 1 / result\n",
    "else:\n",
    "    result = 1 \n",
    "print(f\"{base} raised to the power of {exponent} is: {result}\")\n"
   ]
  },
  {
   "cell_type": "code",
   "execution_count": null,
   "id": "90bd5803-d60a-4e1f-95f9-9bd47224b94a",
   "metadata": {},
   "outputs": [],
   "source": []
  }
 ],
 "metadata": {
  "kernelspec": {
   "display_name": "Python 3 (ipykernel)",
   "language": "python",
   "name": "python3"
  },
  "language_info": {
   "codemirror_mode": {
    "name": "ipython",
    "version": 3
   },
   "file_extension": ".py",
   "mimetype": "text/x-python",
   "name": "python",
   "nbconvert_exporter": "python",
   "pygments_lexer": "ipython3",
   "version": "3.12.5"
  }
 },
 "nbformat": 4,
 "nbformat_minor": 5
}
